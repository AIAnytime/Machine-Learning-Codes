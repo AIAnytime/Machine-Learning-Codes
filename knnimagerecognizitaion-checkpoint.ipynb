{
 "cells": [
  {
   "cell_type": "code",
   "execution_count": 1,
   "metadata": {},
   "outputs": [],
   "source": [
    "from sklearn import datasets"
   ]
  },
  {
   "cell_type": "code",
   "execution_count": 2,
   "metadata": {},
   "outputs": [],
   "source": [
    "mydigitdata=datasets.load_digits()"
   ]
  },
  {
   "cell_type": "code",
   "execution_count": 3,
   "metadata": {},
   "outputs": [],
   "source": [
    "X_feature=mydigitdata.data"
   ]
  },
  {
   "cell_type": "code",
   "execution_count": 4,
   "metadata": {},
   "outputs": [],
   "source": [
    "Y_target=mydigitdata.target"
   ]
  },
  {
   "cell_type": "code",
   "execution_count": 5,
   "metadata": {},
   "outputs": [],
   "source": [
    "from sklearn.neighbors import KNeighborsClassifier"
   ]
  },
  {
   "cell_type": "code",
   "execution_count": 6,
   "metadata": {},
   "outputs": [],
   "source": [
    "myobj=KNeighborsClassifier(\n",
    ")"
   ]
  },
  {
   "cell_type": "code",
   "execution_count": 7,
   "metadata": {},
   "outputs": [],
   "source": [
    "mymodel=myobj.fit(X_feature,Y_target)"
   ]
  },
  {
   "cell_type": "code",
   "execution_count": 8,
   "metadata": {},
   "outputs": [],
   "source": [
    "X_test=mydigitdata.data[-1]"
   ]
  },
  {
   "cell_type": "code",
   "execution_count": 10,
   "metadata": {},
   "outputs": [
    {
     "data": {
      "text/plain": [
       "array([8])"
      ]
     },
     "execution_count": 10,
     "metadata": {},
     "output_type": "execute_result"
    }
   ],
   "source": [
    "mymodel.predict([X_test])"
   ]
  },
  {
   "cell_type": "code",
   "execution_count": 11,
   "metadata": {},
   "outputs": [
    {
     "data": {
      "text/plain": [
       "'C:\\\\Users\\\\pawan'"
      ]
     },
     "execution_count": 11,
     "metadata": {},
     "output_type": "execute_result"
    }
   ],
   "source": [
    "pwd"
   ]
  },
  {
   "cell_type": "code",
   "execution_count": 12,
   "metadata": {},
   "outputs": [],
   "source": [
    "from scipy import misc"
   ]
  },
  {
   "cell_type": "code",
   "execution_count": 75,
   "metadata": {},
   "outputs": [
    {
     "name": "stderr",
     "output_type": "stream",
     "text": [
      "C:\\Users\\pawan\\Anaconda3\\lib\\site-packages\\ipykernel_launcher.py:1: DeprecationWarning: `imread` is deprecated!\n",
      "`imread` is deprecated in SciPy 1.0.0, and will be removed in 1.2.0.\n",
      "Use ``imageio.imread`` instead.\n",
      "  \"\"\"Entry point for launching an IPython kernel.\n"
     ]
    }
   ],
   "source": [
    "myimage=misc.imread(\"two.gif\")"
   ]
  },
  {
   "cell_type": "code",
   "execution_count": 76,
   "metadata": {},
   "outputs": [
    {
     "data": {
      "text/plain": [
       "array([[[255, 255, 255,   0],\n",
       "        [255, 255, 255,   0],\n",
       "        [255, 255, 255,   0],\n",
       "        ...,\n",
       "        [255, 255, 255,   0],\n",
       "        [255, 255, 255,   0],\n",
       "        [255, 255, 255,   0]],\n",
       "\n",
       "       [[255, 255, 255,   0],\n",
       "        [255, 255, 255,   0],\n",
       "        [255, 255, 255,   0],\n",
       "        ...,\n",
       "        [255, 255, 255,   0],\n",
       "        [255, 255, 255,   0],\n",
       "        [255, 255, 255,   0]],\n",
       "\n",
       "       [[255, 255, 255,   0],\n",
       "        [255, 255, 255,   0],\n",
       "        [255, 255, 255,   0],\n",
       "        ...,\n",
       "        [255, 255, 255,   0],\n",
       "        [255, 255, 255,   0],\n",
       "        [255, 255, 255,   0]],\n",
       "\n",
       "       ...,\n",
       "\n",
       "       [[255, 255, 255,   0],\n",
       "        [255, 255, 255,   0],\n",
       "        [255, 255, 255,   0],\n",
       "        ...,\n",
       "        [255, 255, 255,   0],\n",
       "        [255, 255, 255,   0],\n",
       "        [255, 255, 255,   0]],\n",
       "\n",
       "       [[255, 255, 255,   0],\n",
       "        [255, 255, 255,   0],\n",
       "        [255, 255, 255,   0],\n",
       "        ...,\n",
       "        [255, 255, 255,   0],\n",
       "        [255, 255, 255,   0],\n",
       "        [255, 255, 255,   0]],\n",
       "\n",
       "       [[255, 255, 255,   0],\n",
       "        [255, 255, 255,   0],\n",
       "        [255, 255, 255,   0],\n",
       "        ...,\n",
       "        [255, 255, 255,   0],\n",
       "        [255, 255, 255,   0],\n",
       "        [255, 255, 255,   0]]], dtype=uint8)"
      ]
     },
     "execution_count": 76,
     "metadata": {},
     "output_type": "execute_result"
    }
   ],
   "source": [
    "myimage"
   ]
  },
  {
   "cell_type": "code",
   "execution_count": 77,
   "metadata": {},
   "outputs": [
    {
     "data": {
      "text/plain": [
       "(151, 150, 4)"
      ]
     },
     "execution_count": 77,
     "metadata": {},
     "output_type": "execute_result"
    }
   ],
   "source": [
    "myimage.shape"
   ]
  },
  {
   "cell_type": "code",
   "execution_count": 78,
   "metadata": {},
   "outputs": [
    {
     "data": {
      "text/plain": [
       "dtype('uint8')"
      ]
     },
     "execution_count": 78,
     "metadata": {},
     "output_type": "execute_result"
    }
   ],
   "source": [
    "myimage.dtype"
   ]
  },
  {
   "cell_type": "code",
   "execution_count": 79,
   "metadata": {},
   "outputs": [
    {
     "name": "stderr",
     "output_type": "stream",
     "text": [
      "C:\\Users\\pawan\\Anaconda3\\lib\\site-packages\\ipykernel_launcher.py:2: DeprecationWarning: `imresize` is deprecated!\n",
      "`imresize` is deprecated in SciPy 1.0.0, and will be removed in 1.2.0.\n",
      "Use ``skimage.transform.resize`` instead.\n",
      "  \n"
     ]
    }
   ],
   "source": [
    "\n",
    "myimage_resize=misc.imresize(myimage,(8,8))"
   ]
  },
  {
   "cell_type": "code",
   "execution_count": 80,
   "metadata": {},
   "outputs": [
    {
     "data": {
      "text/plain": [
       "(8, 8, 4)"
      ]
     },
     "execution_count": 80,
     "metadata": {},
     "output_type": "execute_result"
    }
   ],
   "source": [
    "myimage_resize.shape"
   ]
  },
  {
   "cell_type": "code",
   "execution_count": 81,
   "metadata": {},
   "outputs": [
    {
     "data": {
      "text/plain": [
       "array([[[  0,   0,   0,   0],\n",
       "        [ 22,  22,  22,  23],\n",
       "        [ 13,  13,  13,  98],\n",
       "        [ 16,  16,  16, 111],\n",
       "        [ 15,  15,  15,  50],\n",
       "        [  0,   0,   0,   2],\n",
       "        [  0,   0,   0,   0],\n",
       "        [  0,   0,   0,   0]],\n",
       "\n",
       "       [[ 28,  28,  28,   9],\n",
       "        [ 10,  10,  10, 116],\n",
       "        [ 13,  13,  13,  75],\n",
       "        [ 14,  14,  14,  52],\n",
       "        [ 12,  12,  12, 126],\n",
       "        [ 13,  13,  13,  37],\n",
       "        [  0,   0,   0,   0],\n",
       "        [  0,   0,   0,   0]],\n",
       "\n",
       "       [[ 12,  12,  12,  21],\n",
       "        [ 17,  17,  17,  71],\n",
       "        [  0,   0,   0,   2],\n",
       "        [  0,   0,   0,   0],\n",
       "        [ 11,  11,  11,  66],\n",
       "        [  9,   9,   9,  80],\n",
       "        [  0,   0,   0,   0],\n",
       "        [  0,   0,   0,   0]],\n",
       "\n",
       "       [[  0,   0,   0,   0],\n",
       "        [  0,   0,   0,   1],\n",
       "        [  0,   0,   0,   0],\n",
       "        [  0,   0,   0,   0],\n",
       "        [  8,   8,   8,  62],\n",
       "        [  9,   9,   9,  81],\n",
       "        [  0,   0,   0,   0],\n",
       "        [  0,   0,   0,   0]],\n",
       "\n",
       "       [[  0,   0,   0,   0],\n",
       "        [ 28,  28,  28,   9],\n",
       "        [ 15,  15,  15,  17],\n",
       "        [ 42,  42,  42,   6],\n",
       "        [ 11,  11,  11, 107],\n",
       "        [ 16,  16,  16,  47],\n",
       "        [  0,   0,   0,   0],\n",
       "        [  0,   0,   0,   0]],\n",
       "\n",
       "       [[  9,   9,   9,  27],\n",
       "        [ 10,  10,  10, 122],\n",
       "        [ 10,  10,  10, 127],\n",
       "        [ 11,  11,  11, 134],\n",
       "        [ 10,  10,  10, 121],\n",
       "        [ 42,  42,  42,   6],\n",
       "        [  0,   0,   0,   0],\n",
       "        [  0,   0,   0,   0]],\n",
       "\n",
       "       [[ 10,  10,  10,  49],\n",
       "        [  9,   9,   9, 131],\n",
       "        [ 10,  10,  10,  93],\n",
       "        [ 11,  11,  11, 156],\n",
       "        [ 11,  11,  11, 134],\n",
       "        [ 13,  13,  13,  97],\n",
       "        [ 11,  11,  11,  86],\n",
       "        [ 15,  15,  15,  48]],\n",
       "\n",
       "       [[ 51,  51,  51,   5],\n",
       "        [ 13,  13,  13,  55],\n",
       "        [  9,   9,   9,  78],\n",
       "        [ 23,  23,  23,  22],\n",
       "        [ 15,  15,  15,  17],\n",
       "        [  9,   9,   9,  55],\n",
       "        [ 11,  11,  11,  64],\n",
       "        [ 20,  20,  20,  25]]], dtype=uint8)"
      ]
     },
     "execution_count": 81,
     "metadata": {},
     "output_type": "execute_result"
    }
   ],
   "source": [
    "myimage_resize"
   ]
  },
  {
   "cell_type": "code",
   "execution_count": 82,
   "metadata": {},
   "outputs": [
    {
     "data": {
      "text/plain": [
       "dtype('uint8')"
      ]
     },
     "execution_count": 82,
     "metadata": {},
     "output_type": "execute_result"
    }
   ],
   "source": [
    "myimage_resize.dtype"
   ]
  },
  {
   "cell_type": "code",
   "execution_count": 83,
   "metadata": {},
   "outputs": [],
   "source": [
    "myimage_resize=myimage_resize.astype(mydigitdata.data.dtype)"
   ]
  },
  {
   "cell_type": "code",
   "execution_count": 84,
   "metadata": {},
   "outputs": [
    {
     "data": {
      "text/plain": [
       "dtype('float64')"
      ]
     },
     "execution_count": 84,
     "metadata": {},
     "output_type": "execute_result"
    }
   ],
   "source": [
    "myimage_resize.dtype"
   ]
  },
  {
   "cell_type": "code",
   "execution_count": 85,
   "metadata": {},
   "outputs": [
    {
     "name": "stderr",
     "output_type": "stream",
     "text": [
      "C:\\Users\\pawan\\Anaconda3\\lib\\site-packages\\ipykernel_launcher.py:1: DeprecationWarning: `bytescale` is deprecated!\n",
      "`bytescale` is deprecated in SciPy 1.0.0, and will be removed in 1.2.0.\n",
      "  \"\"\"Entry point for launching an IPython kernel.\n"
     ]
    }
   ],
   "source": [
    "myimage_resize=misc.bytescale(myimage_resize,low=0,high=16)"
   ]
  },
  {
   "cell_type": "code",
   "execution_count": 86,
   "metadata": {},
   "outputs": [
    {
     "data": {
      "text/plain": [
       "array([[[ 0,  0,  0,  0],\n",
       "        [ 2,  2,  2,  2],\n",
       "        [ 1,  1,  1, 10],\n",
       "        [ 2,  2,  2, 11],\n",
       "        [ 2,  2,  2,  5],\n",
       "        [ 0,  0,  0,  0],\n",
       "        [ 0,  0,  0,  0],\n",
       "        [ 0,  0,  0,  0]],\n",
       "\n",
       "       [[ 3,  3,  3,  1],\n",
       "        [ 1,  1,  1, 12],\n",
       "        [ 1,  1,  1,  8],\n",
       "        [ 1,  1,  1,  5],\n",
       "        [ 1,  1,  1, 13],\n",
       "        [ 1,  1,  1,  4],\n",
       "        [ 0,  0,  0,  0],\n",
       "        [ 0,  0,  0,  0]],\n",
       "\n",
       "       [[ 1,  1,  1,  2],\n",
       "        [ 2,  2,  2,  7],\n",
       "        [ 0,  0,  0,  0],\n",
       "        [ 0,  0,  0,  0],\n",
       "        [ 1,  1,  1,  7],\n",
       "        [ 1,  1,  1,  8],\n",
       "        [ 0,  0,  0,  0],\n",
       "        [ 0,  0,  0,  0]],\n",
       "\n",
       "       [[ 0,  0,  0,  0],\n",
       "        [ 0,  0,  0,  0],\n",
       "        [ 0,  0,  0,  0],\n",
       "        [ 0,  0,  0,  0],\n",
       "        [ 1,  1,  1,  6],\n",
       "        [ 1,  1,  1,  8],\n",
       "        [ 0,  0,  0,  0],\n",
       "        [ 0,  0,  0,  0]],\n",
       "\n",
       "       [[ 0,  0,  0,  0],\n",
       "        [ 3,  3,  3,  1],\n",
       "        [ 2,  2,  2,  2],\n",
       "        [ 4,  4,  4,  1],\n",
       "        [ 1,  1,  1, 11],\n",
       "        [ 2,  2,  2,  5],\n",
       "        [ 0,  0,  0,  0],\n",
       "        [ 0,  0,  0,  0]],\n",
       "\n",
       "       [[ 1,  1,  1,  3],\n",
       "        [ 1,  1,  1, 13],\n",
       "        [ 1,  1,  1, 13],\n",
       "        [ 1,  1,  1, 14],\n",
       "        [ 1,  1,  1, 12],\n",
       "        [ 4,  4,  4,  1],\n",
       "        [ 0,  0,  0,  0],\n",
       "        [ 0,  0,  0,  0]],\n",
       "\n",
       "       [[ 1,  1,  1,  5],\n",
       "        [ 1,  1,  1, 13],\n",
       "        [ 1,  1,  1, 10],\n",
       "        [ 1,  1,  1, 16],\n",
       "        [ 1,  1,  1, 14],\n",
       "        [ 1,  1,  1, 10],\n",
       "        [ 1,  1,  1,  9],\n",
       "        [ 2,  2,  2,  5]],\n",
       "\n",
       "       [[ 5,  5,  5,  1],\n",
       "        [ 1,  1,  1,  6],\n",
       "        [ 1,  1,  1,  8],\n",
       "        [ 2,  2,  2,  2],\n",
       "        [ 2,  2,  2,  2],\n",
       "        [ 1,  1,  1,  6],\n",
       "        [ 1,  1,  1,  7],\n",
       "        [ 2,  2,  2,  3]]], dtype=uint8)"
      ]
     },
     "execution_count": 86,
     "metadata": {},
     "output_type": "execute_result"
    }
   ],
   "source": [
    "myimage_resize"
   ]
  },
  {
   "cell_type": "code",
   "execution_count": 87,
   "metadata": {},
   "outputs": [
    {
     "data": {
      "text/plain": [
       "dtype('uint8')"
      ]
     },
     "execution_count": 87,
     "metadata": {},
     "output_type": "execute_result"
    }
   ],
   "source": [
    "myimage_resize.dtype"
   ]
  },
  {
   "cell_type": "code",
   "execution_count": 88,
   "metadata": {},
   "outputs": [],
   "source": [
    "myimage_resize=myimage_resize.astype(mydigitdata.data.dtype)"
   ]
  },
  {
   "cell_type": "code",
   "execution_count": 89,
   "metadata": {},
   "outputs": [
    {
     "data": {
      "text/plain": [
       "dtype('float64')"
      ]
     },
     "execution_count": 89,
     "metadata": {},
     "output_type": "execute_result"
    }
   ],
   "source": [
    "myimage_resize.dtype"
   ]
  },
  {
   "cell_type": "code",
   "execution_count": 90,
   "metadata": {},
   "outputs": [
    {
     "data": {
      "text/plain": [
       "array([[[ 0.,  0.,  0.,  0.],\n",
       "        [ 2.,  2.,  2.,  2.],\n",
       "        [ 1.,  1.,  1., 10.],\n",
       "        [ 2.,  2.,  2., 11.],\n",
       "        [ 2.,  2.,  2.,  5.],\n",
       "        [ 0.,  0.,  0.,  0.],\n",
       "        [ 0.,  0.,  0.,  0.],\n",
       "        [ 0.,  0.,  0.,  0.]],\n",
       "\n",
       "       [[ 3.,  3.,  3.,  1.],\n",
       "        [ 1.,  1.,  1., 12.],\n",
       "        [ 1.,  1.,  1.,  8.],\n",
       "        [ 1.,  1.,  1.,  5.],\n",
       "        [ 1.,  1.,  1., 13.],\n",
       "        [ 1.,  1.,  1.,  4.],\n",
       "        [ 0.,  0.,  0.,  0.],\n",
       "        [ 0.,  0.,  0.,  0.]],\n",
       "\n",
       "       [[ 1.,  1.,  1.,  2.],\n",
       "        [ 2.,  2.,  2.,  7.],\n",
       "        [ 0.,  0.,  0.,  0.],\n",
       "        [ 0.,  0.,  0.,  0.],\n",
       "        [ 1.,  1.,  1.,  7.],\n",
       "        [ 1.,  1.,  1.,  8.],\n",
       "        [ 0.,  0.,  0.,  0.],\n",
       "        [ 0.,  0.,  0.,  0.]],\n",
       "\n",
       "       [[ 0.,  0.,  0.,  0.],\n",
       "        [ 0.,  0.,  0.,  0.],\n",
       "        [ 0.,  0.,  0.,  0.],\n",
       "        [ 0.,  0.,  0.,  0.],\n",
       "        [ 1.,  1.,  1.,  6.],\n",
       "        [ 1.,  1.,  1.,  8.],\n",
       "        [ 0.,  0.,  0.,  0.],\n",
       "        [ 0.,  0.,  0.,  0.]],\n",
       "\n",
       "       [[ 0.,  0.,  0.,  0.],\n",
       "        [ 3.,  3.,  3.,  1.],\n",
       "        [ 2.,  2.,  2.,  2.],\n",
       "        [ 4.,  4.,  4.,  1.],\n",
       "        [ 1.,  1.,  1., 11.],\n",
       "        [ 2.,  2.,  2.,  5.],\n",
       "        [ 0.,  0.,  0.,  0.],\n",
       "        [ 0.,  0.,  0.,  0.]],\n",
       "\n",
       "       [[ 1.,  1.,  1.,  3.],\n",
       "        [ 1.,  1.,  1., 13.],\n",
       "        [ 1.,  1.,  1., 13.],\n",
       "        [ 1.,  1.,  1., 14.],\n",
       "        [ 1.,  1.,  1., 12.],\n",
       "        [ 4.,  4.,  4.,  1.],\n",
       "        [ 0.,  0.,  0.,  0.],\n",
       "        [ 0.,  0.,  0.,  0.]],\n",
       "\n",
       "       [[ 1.,  1.,  1.,  5.],\n",
       "        [ 1.,  1.,  1., 13.],\n",
       "        [ 1.,  1.,  1., 10.],\n",
       "        [ 1.,  1.,  1., 16.],\n",
       "        [ 1.,  1.,  1., 14.],\n",
       "        [ 1.,  1.,  1., 10.],\n",
       "        [ 1.,  1.,  1.,  9.],\n",
       "        [ 2.,  2.,  2.,  5.]],\n",
       "\n",
       "       [[ 5.,  5.,  5.,  1.],\n",
       "        [ 1.,  1.,  1.,  6.],\n",
       "        [ 1.,  1.,  1.,  8.],\n",
       "        [ 2.,  2.,  2.,  2.],\n",
       "        [ 2.,  2.,  2.,  2.],\n",
       "        [ 1.,  1.,  1.,  6.],\n",
       "        [ 1.,  1.,  1.,  7.],\n",
       "        [ 2.,  2.,  2.,  3.]]])"
      ]
     },
     "execution_count": 90,
     "metadata": {},
     "output_type": "execute_result"
    }
   ],
   "source": [
    "myimage_resize"
   ]
  },
  {
   "cell_type": "code",
   "execution_count": 91,
   "metadata": {},
   "outputs": [],
   "source": [
    "mytestimagedata=[]"
   ]
  },
  {
   "cell_type": "code",
   "execution_count": 92,
   "metadata": {},
   "outputs": [],
   "source": [
    "for i in myimage_resize:\n",
    "    for j in i:\n",
    "        mytestimagedata.append(sum(j)/3.0)"
   ]
  },
  {
   "cell_type": "code",
   "execution_count": 93,
   "metadata": {},
   "outputs": [
    {
     "data": {
      "text/plain": [
       "64"
      ]
     },
     "execution_count": 93,
     "metadata": {},
     "output_type": "execute_result"
    }
   ],
   "source": [
    "len(mytestimagedata)"
   ]
  },
  {
   "cell_type": "code",
   "execution_count": 94,
   "metadata": {},
   "outputs": [
    {
     "data": {
      "text/plain": [
       "[0.0,\n",
       " 2.6666666666666665,\n",
       " 4.333333333333333,\n",
       " 5.666666666666667,\n",
       " 3.6666666666666665,\n",
       " 0.0,\n",
       " 0.0,\n",
       " 0.0,\n",
       " 3.3333333333333335,\n",
       " 5.0,\n",
       " 3.6666666666666665,\n",
       " 2.6666666666666665,\n",
       " 5.333333333333333,\n",
       " 2.3333333333333335,\n",
       " 0.0,\n",
       " 0.0,\n",
       " 1.6666666666666667,\n",
       " 4.333333333333333,\n",
       " 0.0,\n",
       " 0.0,\n",
       " 3.3333333333333335,\n",
       " 3.6666666666666665,\n",
       " 0.0,\n",
       " 0.0,\n",
       " 0.0,\n",
       " 0.0,\n",
       " 0.0,\n",
       " 0.0,\n",
       " 3.0,\n",
       " 3.6666666666666665,\n",
       " 0.0,\n",
       " 0.0,\n",
       " 0.0,\n",
       " 3.3333333333333335,\n",
       " 2.6666666666666665,\n",
       " 4.333333333333333,\n",
       " 4.666666666666667,\n",
       " 3.6666666666666665,\n",
       " 0.0,\n",
       " 0.0,\n",
       " 2.0,\n",
       " 5.333333333333333,\n",
       " 5.333333333333333,\n",
       " 5.666666666666667,\n",
       " 5.0,\n",
       " 4.333333333333333,\n",
       " 0.0,\n",
       " 0.0,\n",
       " 2.6666666666666665,\n",
       " 5.333333333333333,\n",
       " 4.333333333333333,\n",
       " 6.333333333333333,\n",
       " 5.666666666666667,\n",
       " 4.333333333333333,\n",
       " 4.0,\n",
       " 3.6666666666666665,\n",
       " 5.333333333333333,\n",
       " 3.0,\n",
       " 3.6666666666666665,\n",
       " 2.6666666666666665,\n",
       " 2.6666666666666665,\n",
       " 3.0,\n",
       " 3.3333333333333335,\n",
       " 3.0]"
      ]
     },
     "execution_count": 94,
     "metadata": {},
     "output_type": "execute_result"
    }
   ],
   "source": [
    "mytestimagedata"
   ]
  },
  {
   "cell_type": "code",
   "execution_count": 96,
   "metadata": {},
   "outputs": [
    {
     "data": {
      "text/plain": [
       "array([2])"
      ]
     },
     "execution_count": 96,
     "metadata": {},
     "output_type": "execute_result"
    }
   ],
   "source": [
    "mymodel.predict([mytestimagedata])"
   ]
  },
  {
   "cell_type": "code",
   "execution_count": null,
   "metadata": {},
   "outputs": [],
   "source": []
  },
  {
   "cell_type": "code",
   "execution_count": null,
   "metadata": {},
   "outputs": [],
   "source": []
  }
 ],
 "metadata": {
  "kernelspec": {
   "display_name": "Python 3",
   "language": "python",
   "name": "python3"
  },
  "language_info": {
   "codemirror_mode": {
    "name": "ipython",
    "version": 3
   },
   "file_extension": ".py",
   "mimetype": "text/x-python",
   "name": "python",
   "nbconvert_exporter": "python",
   "pygments_lexer": "ipython3",
   "version": "3.6.5"
  }
 },
 "nbformat": 4,
 "nbformat_minor": 2
}
